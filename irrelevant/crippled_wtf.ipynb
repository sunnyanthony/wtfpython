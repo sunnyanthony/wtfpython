{
 "cells": [
  {
   "cell_type": "markdown",
   "metadata": {},
   "source": [
    "# What The F*** Python\n",
    "reference: https://github.com/satwikkansal/wtfpython"
   ]
  },
  {
   "cell_type": "markdown",
   "metadata": {},
   "source": [
    "### `Walrus` (:=)"
   ]
  },
  {
   "cell_type": "code",
   "execution_count": null,
   "metadata": {},
   "outputs": [],
   "source": [
    "a := 5"
   ]
  },
  {
   "cell_type": "code",
   "execution_count": null,
   "metadata": {},
   "outputs": [],
   "source": [
    "(a := 5)"
   ]
  },
  {
   "cell_type": "code",
   "execution_count": null,
   "metadata": {},
   "outputs": [],
   "source": [
    "(a, b := 7, 10)"
   ]
  },
  {
   "cell_type": "code",
   "execution_count": null,
   "metadata": {},
   "outputs": [],
   "source": [
    "b"
   ]
  },
  {
   "cell_type": "code",
   "execution_count": null,
   "metadata": {},
   "outputs": [],
   "source": [
    "(a := 6, 9) == ((a := 6), 9)"
   ]
  },
  {
   "cell_type": "code",
   "execution_count": null,
   "metadata": {
    "tags": []
   },
   "outputs": [],
   "source": [
    "x = (a := 696, 9)"
   ]
  },
  {
   "cell_type": "code",
   "execution_count": null,
   "metadata": {
    "tags": []
   },
   "outputs": [],
   "source": [
    "x[0] is a"
   ]
  },
  {
   "cell_type": "code",
   "execution_count": null,
   "metadata": {
    "tags": []
   },
   "outputs": [],
   "source": [
    "def some_func():\n",
    "    return 5\n",
    "if a := some_func():\n",
    "    print(a)"
   ]
  },
  {
   "cell_type": "code",
   "execution_count": null,
   "metadata": {
    "tags": []
   },
   "outputs": [],
   "source": [
    "qq = 0\n",
    "def some_funcqq():\n",
    "    global qq\n",
    "    qq += 1\n",
    "    return qq\n",
    "\n",
    "while ha := some_funcqq():\n",
    "    if ha == 5:\n",
    "        print(ha)\n",
    "        break"
   ]
  },
  {
   "cell_type": "code",
   "execution_count": null,
   "metadata": {},
   "outputs": [],
   "source": [
    "print(\"end part 1\")"
   ]
  },
  {
   "cell_type": "markdown",
   "metadata": {
    "jupyter": {
     "outputs_hidden": true
    }
   },
   "source": [
    "### global vs nonlocal"
   ]
  },
  {
   "cell_type": "code",
   "execution_count": null,
   "metadata": {},
   "outputs": [],
   "source": [
    "def level1():\n",
    "    v = 2\n",
    "    def closure():\n",
    "        v += 1\n",
    "    closure()\n",
    "    return v\n",
    "\n",
    "print(level1())"
   ]
  },
  {
   "cell_type": "code",
   "execution_count": null,
   "metadata": {},
   "outputs": [],
   "source": [
    "v = 1\n",
    "def level1():\n",
    "    v = 2\n",
    "    def closure():\n",
    "        nonlocal v\n",
    "        v += 1\n",
    "    closure()\n",
    "    return v\n",
    "\n",
    "print(level1())\n",
    "print(v)"
   ]
  },
  {
   "cell_type": "code",
   "execution_count": null,
   "metadata": {},
   "outputs": [],
   "source": [
    "v = 1\n",
    "def level1():\n",
    "    v = 2\n",
    "    def closure():\n",
    "        global v\n",
    "        v += 1\n",
    "    closure()\n",
    "    return v\n",
    "\n",
    "print(level1())\n",
    "print(v)"
   ]
  },
  {
   "cell_type": "code",
   "execution_count": null,
   "metadata": {},
   "outputs": [],
   "source": [
    "v = 1\n",
    "def level1():\n",
    "    v = 2\n",
    "    def closure():\n",
    "        nonlocal v\n",
    "        print(v)\n",
    "    closure()\n",
    "level1()"
   ]
  },
  {
   "cell_type": "code",
   "execution_count": null,
   "metadata": {},
   "outputs": [],
   "source": [
    "v = 1\n",
    "def closure():\n",
    "    global v\n",
    "    print(v)\n",
    "closure()"
   ]
  },
  {
   "cell_type": "code",
   "execution_count": null,
   "metadata": {},
   "outputs": [],
   "source": [
    "print(\"end part 2\")"
   ]
  },
  {
   "cell_type": "markdown",
   "metadata": {},
   "source": [
    "### tricky string"
   ]
  },
  {
   "cell_type": "code",
   "execution_count": null,
   "metadata": {},
   "outputs": [],
   "source": [
    "a = \"some_string\""
   ]
  },
  {
   "cell_type": "code",
   "execution_count": null,
   "metadata": {},
   "outputs": [],
   "source": [
    "id(\"some\" + \"_\" + \"string\") == id(a)"
   ]
  },
  {
   "cell_type": "markdown",
   "metadata": {},
   "source": [
    "* CPython optimization"
   ]
  },
  {
   "cell_type": "code",
   "execution_count": null,
   "metadata": {},
   "outputs": [],
   "source": [
    "a = \"wtf!\"\n",
    "b = \"wtf!\""
   ]
  },
  {
   "cell_type": "code",
   "execution_count": null,
   "metadata": {},
   "outputs": [],
   "source": [
    "id(a) == id(b)"
   ]
  },
  {
   "cell_type": "code",
   "execution_count": null,
   "metadata": {},
   "outputs": [],
   "source": [
    "a, b = \"wtf!\", \"wtf!\""
   ]
  },
  {
   "cell_type": "code",
   "execution_count": null,
   "metadata": {},
   "outputs": [],
   "source": [
    "a is b"
   ]
  },
  {
   "cell_type": "code",
   "execution_count": null,
   "metadata": {},
   "outputs": [],
   "source": [
    "a = \"wtf!\"; b = \"wtf!\"\n",
    "a is b"
   ]
  },
  {
   "cell_type": "markdown",
   "metadata": {},
   "source": [
    "* depend on python shell / ipython / as a script"
   ]
  },
  {
   "cell_type": "markdown",
   "metadata": {},
   "source": [
    "Output (< Python3.7 )\n",
    "\n",
    "```\n",
    ">>> 'a' * 20 is 'aaaaaaaaaaaaaaaaaaaa'\n",
    "True\n",
    ">>> 'a' * 21 is 'aaaaaaaaaaaaaaaaaaaaa'\n",
    "False\n",
    "```"
   ]
  },
  {
   "cell_type": "markdown",
   "metadata": {},
   "source": [
    "### chained operations"
   ]
  },
  {
   "cell_type": "code",
   "execution_count": null,
   "metadata": {},
   "outputs": [],
   "source": [
    "(False == False) in [False]\n",
    "False == (False in [False])"
   ]
  },
  {
   "cell_type": "code",
   "execution_count": null,
   "metadata": {},
   "outputs": [],
   "source": [
    "False == False in [False]"
   ]
  },
  {
   "cell_type": "code",
   "execution_count": null,
   "metadata": {},
   "outputs": [],
   "source": [
    "True is False == False"
   ]
  },
  {
   "cell_type": "code",
   "execution_count": null,
   "metadata": {},
   "outputs": [],
   "source": [
    "False is False is False"
   ]
  },
  {
   "cell_type": "code",
   "execution_count": null,
   "metadata": {},
   "outputs": [],
   "source": [
    "False is False is False is False is not True is True"
   ]
  },
  {
   "cell_type": "markdown",
   "metadata": {},
   "source": [
    "* Comparisons"
   ]
  },
  {
   "cell_type": "code",
   "execution_count": null,
   "metadata": {},
   "outputs": [],
   "source": [
    "-1 < 0 < 1"
   ]
  },
  {
   "cell_type": "code",
   "execution_count": null,
   "metadata": {},
   "outputs": [],
   "source": [
    "(1 > 0) < 1\n",
    "1 > (0 < 1)"
   ]
  },
  {
   "cell_type": "code",
   "execution_count": null,
   "metadata": {},
   "outputs": [],
   "source": [
    "print(int(True))\n",
    "True + 1"
   ]
  },
  {
   "cell_type": "markdown",
   "metadata": {},
   "source": [
    "### don't use `is`"
   ]
  },
  {
   "cell_type": "code",
   "execution_count": null,
   "metadata": {},
   "outputs": [],
   "source": [
    "[] is []"
   ]
  },
  {
   "cell_type": "code",
   "execution_count": null,
   "metadata": {},
   "outputs": [],
   "source": [
    "() is ()"
   ]
  },
  {
   "cell_type": "code",
   "execution_count": null,
   "metadata": {},
   "outputs": [],
   "source": [
    "a, b = 257, 257"
   ]
  },
  {
   "cell_type": "code",
   "execution_count": null,
   "metadata": {},
   "outputs": [],
   "source": [
    "a is b"
   ]
  },
  {
   "cell_type": "code",
   "execution_count": null,
   "metadata": {},
   "outputs": [],
   "source": [
    "a = 257\n",
    "b = 257\n",
    "print(a is b)\n",
    "\n",
    "a = 256\n",
    "b = 256\n",
    "a is b"
   ]
  },
  {
   "cell_type": "markdown",
   "metadata": {},
   "source": [
    "When you start up python the numbers from -5 to 256 will be allocated. These numbers are used a lot, so it makes sense just to have them ready.    \n",
    "Quoting from https://docs.python.org/3/c-api/long.html    \n",
    "> The current implementation keeps an array of integer objects for all integers between -5 and 256, when you create an int in that range you just get back a reference to the existing object. So it should be possible to change the value of 1. I suspect the behavior of Python, in this case, is undefined. :-)\n"
   ]
  },
  {
   "cell_type": "markdown",
   "metadata": {},
   "source": [
    "The optimization depends on OS, platform, version of python, interpreter, file or not, compiling, etc.    \n",
    "**don't count on these operations !!**"
   ]
  },
  {
   "cell_type": "markdown",
   "metadata": {},
   "source": [
    "### Hash brownies"
   ]
  },
  {
   "cell_type": "code",
   "execution_count": null,
   "metadata": {},
   "outputs": [],
   "source": [
    "some_dict = {}\n",
    "some_dict[5.5] = \"JavaScript\"\n",
    "some_dict[5.0] = \"Ruby\"\n",
    "some_dict[5] = \"Python\""
   ]
  },
  {
   "cell_type": "code",
   "execution_count": null,
   "metadata": {},
   "outputs": [],
   "source": [
    "some_dict[5.5]"
   ]
  },
  {
   "cell_type": "code",
   "execution_count": null,
   "metadata": {},
   "outputs": [],
   "source": [
    "some_dict[5.0]"
   ]
  },
  {
   "cell_type": "code",
   "execution_count": null,
   "metadata": {},
   "outputs": [],
   "source": [
    "some_dict[5]"
   ]
  },
  {
   "cell_type": "code",
   "execution_count": null,
   "metadata": {},
   "outputs": [],
   "source": [
    "complex_five = 5 + 0j\n",
    "type(complex_five)"
   ]
  },
  {
   "cell_type": "code",
   "execution_count": null,
   "metadata": {},
   "outputs": [],
   "source": [
    "some_dict[complex_five]"
   ]
  },
  {
   "cell_type": "markdown",
   "metadata": {},
   "source": [
    "key of dict is **equivalence, not identity**"
   ]
  },
  {
   "cell_type": "code",
   "execution_count": null,
   "metadata": {},
   "outputs": [],
   "source": [
    "print(5 == 5.0 == 5 + 0j)\n",
    "print(hash(5) == hash(5.0) == hash(5 + 0j))"
   ]
  },
  {
   "cell_type": "code",
   "execution_count": null,
   "metadata": {},
   "outputs": [],
   "source": [
    "some_dict"
   ]
  },
  {
   "cell_type": "markdown",
   "metadata": {},
   "source": [
    "* python occupies 5.0 instead of 5"
   ]
  },
  {
   "cell_type": "markdown",
   "metadata": {},
   "source": [
    "### Deep down, we're all the same."
   ]
  },
  {
   "cell_type": "code",
   "execution_count": null,
   "metadata": {},
   "outputs": [],
   "source": [
    "class WTF: ..."
   ]
  },
  {
   "cell_type": "code",
   "execution_count": null,
   "metadata": {},
   "outputs": [],
   "source": [
    "print( WTF() == WTF() )\n",
    "print( WTF() is WTF() )"
   ]
  },
  {
   "cell_type": "markdown",
   "metadata": {},
   "source": [
    "> tow different instance could not be equal"
   ]
  },
  {
   "cell_type": "code",
   "execution_count": null,
   "metadata": {},
   "outputs": [],
   "source": [
    "hash(WTF()) == hash(WTF())"
   ]
  },
  {
   "cell_type": "code",
   "execution_count": null,
   "metadata": {},
   "outputs": [],
   "source": [
    "class WTF2(object):\n",
    "  def __init__(self): print(\"I\")\n",
    "  def __del__(self): print(\"D\")"
   ]
  },
  {
   "cell_type": "code",
   "execution_count": null,
   "metadata": {},
   "outputs": [],
   "source": [
    "id(WTF2()) == id(WTF2())"
   ]
  },
  {
   "cell_type": "markdown",
   "metadata": {},
   "source": [
    "**lifetime**\n",
    "1. create WTF2 and pass it to id\n",
    "2. id get the reference number and return it\n",
    "3. the scope of first WTF2 is out, so it would be destroyed\n",
    "4. the next WTF2 would allocate from the same memory !!!"
   ]
  },
  {
   "cell_type": "markdown",
   "metadata": {},
   "source": [
    "### Disorder within order"
   ]
  },
  {
   "cell_type": "code",
   "execution_count": null,
   "metadata": {},
   "outputs": [],
   "source": [
    "from collections import OrderedDict\n",
    "\n",
    "dictionary = dict()\n",
    "dictionary[1] = 'a'; dictionary[2] = 'b';\n",
    "\n",
    "ordered_dict = OrderedDict()\n",
    "ordered_dict[1] = 'a'; ordered_dict[2] = 'b';\n",
    "\n",
    "another_ordered_dict = OrderedDict()\n",
    "another_ordered_dict[2] = 'b'; another_ordered_dict[1] = 'a';\n",
    "\n",
    "class DictWithHash(dict):\n",
    "    \"\"\"\n",
    "    A dict that also implements __hash__ magic.\n",
    "    \"\"\"\n",
    "    __hash__ = lambda self: 0\n",
    "\n",
    "class OrderedDictWithHash(OrderedDict):\n",
    "    \"\"\"\n",
    "    An OrderedDict that also implements __hash__ magic.\n",
    "    \"\"\"\n",
    "    __hash__ = lambda self: 0"
   ]
  },
  {
   "cell_type": "code",
   "execution_count": null,
   "metadata": {},
   "outputs": [],
   "source": [
    "dictionary == ordered_dict"
   ]
  },
  {
   "cell_type": "code",
   "execution_count": null,
   "metadata": {},
   "outputs": [],
   "source": [
    "dictionary == another_ordered_dict"
   ]
  },
  {
   "cell_type": "code",
   "execution_count": null,
   "metadata": {},
   "outputs": [],
   "source": [
    "ordered_dict == another_ordered_dict"
   ]
  },
  {
   "cell_type": "markdown",
   "metadata": {},
   "source": [
    "> Equality tests between OrderedDict objects are order-sensitive and are implemented as list(od1.items())==list(od2.items())"
   ]
  },
  {
   "cell_type": "code",
   "execution_count": null,
   "metadata": {},
   "outputs": [],
   "source": [
    "len({dictionary, ordered_dict, another_ordered_dict})"
   ]
  },
  {
   "cell_type": "markdown",
   "metadata": {},
   "source": [
    "set or dict would only accept hashable value to be the `key`\n",
    "> only immutable objects are hashable"
   ]
  },
  {
   "cell_type": "code",
   "execution_count": null,
   "metadata": {},
   "outputs": [],
   "source": [
    "ordered_dict =  OrderedDictWithHash(ordered_dict)\n",
    "another_ordered_dict = OrderedDictWithHash(another_ordered_dict)\n",
    "another_set = set()\n",
    "another_set.add(ordered_dict)\n",
    "another_ordered_dict in another_set"
   ]
  },
  {
   "cell_type": "markdown",
   "metadata": {},
   "source": [
    "### Keep trying..."
   ]
  },
  {
   "cell_type": "code",
   "execution_count": null,
   "metadata": {},
   "outputs": [],
   "source": [
    "def some_func():\n",
    "    try:\n",
    "        return 'from_try'\n",
    "    finally:\n",
    "        return 'from_finally'\n",
    "\n",
    "def another_func(): \n",
    "    for _ in range(3):\n",
    "        try:\n",
    "            continue\n",
    "        finally:\n",
    "            print(\"Finally!\")\n",
    "\n",
    "def one_more_func():\n",
    "    try:\n",
    "        for i in range(3):\n",
    "            try:\n",
    "                1 / i\n",
    "            except ZeroDivisionError:\n",
    "                # Let's throw it here and handle it outside for loop\n",
    "                raise ZeroDivisionError(\"A trivial divide by zero error\")\n",
    "            finally:\n",
    "                print(\"Iteration\", i)\n",
    "                break\n",
    "    except ZeroDivisionError as e:\n",
    "        print(f\"Zero division error occurred: {e}\")"
   ]
  },
  {
   "cell_type": "code",
   "execution_count": null,
   "metadata": {},
   "outputs": [],
   "source": [
    "some_func()"
   ]
  },
  {
   "cell_type": "code",
   "execution_count": null,
   "metadata": {},
   "outputs": [],
   "source": [
    "another_func()"
   ]
  },
  {
   "cell_type": "code",
   "execution_count": null,
   "metadata": {},
   "outputs": [],
   "source": [
    "1 / 0"
   ]
  },
  {
   "cell_type": "code",
   "execution_count": null,
   "metadata": {},
   "outputs": [],
   "source": [
    "one_more_func()"
   ]
  },
  {
   "cell_type": "markdown",
   "metadata": {},
   "source": [
    "1. finally woule run out of `return, break or continue`\n",
    "2. The caveat here is, if the finally clause executes a return or break statement, the temporarily saved exception is discarded."
   ]
  },
  {
   "cell_type": "code",
   "execution_count": null,
   "metadata": {},
   "outputs": [],
   "source": [
    "try:\n",
    "    for i in range(3):\n",
    "        try:\n",
    "            1 / i\n",
    "        except ZeroDivisionError:\n",
    "            raise ZeroDivisionError(\"A trivial divide by zero error\")\n",
    "        finally:\n",
    "            print(\"Iteration\", i)\n",
    "except ZeroDivisionError as e:\n",
    "    print(f\"Zero division error occurred: {e}\")"
   ]
  },
  {
   "cell_type": "markdown",
   "metadata": {},
   "source": [
    "### For what?"
   ]
  },
  {
   "cell_type": "code",
   "execution_count": null,
   "metadata": {},
   "outputs": [],
   "source": [
    "some_string = \"wtf\"\n",
    "some_dict = {}\n",
    "for i, some_dict[i] in enumerate(some_string):\n",
    "    i = 10"
   ]
  },
  {
   "cell_type": "code",
   "execution_count": null,
   "metadata": {},
   "outputs": [],
   "source": [
    "some_dict"
   ]
  },
  {
   "cell_type": "code",
   "execution_count": null,
   "metadata": {},
   "outputs": [],
   "source": [
    "del i\n",
    "# the for-loop would be like\n",
    "i, some_dict[i] = (0, 'w')\n",
    "i, some_dict[i] = (1, 't')\n",
    "i, some_dict[i] = (2, 'f')\n",
    "some_dict"
   ]
  },
  {
   "cell_type": "markdown",
   "metadata": {},
   "source": [
    "### Evaluation time discrepancy"
   ]
  },
  {
   "cell_type": "code",
   "execution_count": null,
   "metadata": {},
   "outputs": [],
   "source": [
    "import collections\n",
    "def fun():\n",
    "    for i in range(4):\n",
    "        yield i\n",
    "\n",
    "print(type(fun))\n",
    "print(type(fun()))\n",
    "\n",
    "gen = fun()\n",
    "\n",
    "print(f\"get item from generator: {list(gen)}\")\n",
    "print(f\"after giving the number to list: {list(gen)}\")"
   ]
  },
  {
   "cell_type": "code",
   "execution_count": null,
   "metadata": {},
   "outputs": [],
   "source": [
    "array = [1, 8, 15]\n",
    "# A typical generator expression\n",
    "gen = (x for x in array if array.count(x) > 0)\n",
    "array = [2, 8, 22]\n",
    "print(f\"should be {array} but is {list(gen)}\")"
   ]
  },
  {
   "cell_type": "code",
   "execution_count": null,
   "metadata": {},
   "outputs": [],
   "source": [
    "array_1 = [1,2,3,4]\n",
    "print(id(array_1))\n",
    "gen_1 = (x for x in array_1)\n",
    "array_1 = [1,2,3,4,5]\n",
    "print(id(array_1))\n",
    "\n",
    "print(list(gen_1))\n",
    "\n",
    "array_2 = [1,2,3,4]\n",
    "print(id(array_2))\n",
    "gen_2 = (x for x in array_2)\n",
    "array_2[:] = [1,2,3,4,5]\n",
    "print(id(array_2))\n",
    "\n",
    "print(list(gen_2))"
   ]
  },
  {
   "cell_type": "code",
   "execution_count": null,
   "metadata": {},
   "outputs": [],
   "source": [
    "array_3 = [1, 2, 3]\n",
    "array_4 = [10, 20, 30]\n",
    "gen = (i + j for i in array_3 for j in array_4)\n",
    "\n",
    "array_5 = [4, 5, 6]\n",
    "array_6 = [400, 500, 600]\n",
    "\n",
    "print(list(gen))"
   ]
  },
  {
   "cell_type": "markdown",
   "metadata": {},
   "source": [
    "first array_3 + second array_4"
   ]
  },
  {
   "cell_type": "markdown",
   "metadata": {},
   "source": [
    "1. In a generator expression, the in clause is evaluated at declaration time, but the conditional clause is evaluated at runtime.\n",
    "2. [PEP-289](https://www.python.org/dev/peps/pep-0289/#the-details)    \n",
    "    > Only the outermost for-expression is evaluated immediately, the other expressions are deferred until the generator is run.\n"
   ]
  },
  {
   "cell_type": "code",
   "execution_count": null,
   "metadata": {},
   "outputs": [],
   "source": [
    "array = [1, 8, 15]\n",
    "# A typical generator expression\n",
    "gen = (x for x in array if print(f\"{array} has {x} ?\"))\n",
    "array = [2, 8, 22]\n",
    "list(gen)"
   ]
  },
  {
   "cell_type": "markdown",
   "metadata": {},
   "source": [
    "### is not ... is not is (not ...)"
   ]
  },
  {
   "cell_type": "code",
   "execution_count": null,
   "metadata": {},
   "outputs": [],
   "source": [
    "'something' is not None"
   ]
  },
  {
   "cell_type": "code",
   "execution_count": null,
   "metadata": {},
   "outputs": [],
   "source": [
    "'something' is (not None)"
   ]
  },
  {
   "cell_type": "markdown",
   "metadata": {},
   "source": [
    "### A tic-tac-toe where X wins in the first attempt!"
   ]
  },
  {
   "cell_type": "code",
   "execution_count": null,
   "metadata": {},
   "outputs": [],
   "source": [
    "row = [\"\"] * 3\n",
    "board = [row] * 3"
   ]
  },
  {
   "cell_type": "code",
   "execution_count": null,
   "metadata": {},
   "outputs": [],
   "source": [
    "print(board)\n",
    "print(board[0])\n",
    "print(board[0][0])\n",
    "board[0][0] = \"X\"\n",
    "board"
   ]
  },
  {
   "cell_type": "code",
   "execution_count": null,
   "metadata": {},
   "outputs": [],
   "source": [
    "board = [['']*3 for _ in range(3)]\n",
    "board[0][0] = \"X\"\n",
    "print(board)"
   ]
  },
  {
   "cell_type": "markdown",
   "metadata": {},
   "source": [
    "* string is immutable and the row, list, is mutable.\n",
    "* use comprehensions to initialize list, dict, etc."
   ]
  },
  {
   "cell_type": "markdown",
   "metadata": {},
   "source": [
    "### Schrödinger's variable *"
   ]
  },
  {
   "cell_type": "code",
   "execution_count": null,
   "metadata": {},
   "outputs": [],
   "source": [
    "funcs = []\n",
    "results = []\n",
    "for x in range(7):\n",
    "    def some_func():\n",
    "        return x\n",
    "    funcs.append(some_func)\n",
    "    results.append(some_func())  # note the function call here\n",
    "\n",
    "funcs_results = [func() for func in funcs]"
   ]
  },
  {
   "cell_type": "code",
   "execution_count": null,
   "metadata": {},
   "outputs": [],
   "source": [
    "results"
   ]
  },
  {
   "cell_type": "code",
   "execution_count": null,
   "metadata": {},
   "outputs": [],
   "source": [
    "funcs_results"
   ]
  },
  {
   "cell_type": "code",
   "execution_count": null,
   "metadata": {},
   "outputs": [],
   "source": [
    "powers_of_x = [lambda x: x**i for i in range(10)]\n",
    "[f(2) for f in powers_of_x]"
   ]
  },
  {
   "cell_type": "code",
   "execution_count": null,
   "metadata": {},
   "outputs": [],
   "source": [
    "import inspect\n",
    "inspect.getclosurevars(funcs[0])"
   ]
  },
  {
   "cell_type": "code",
   "execution_count": null,
   "metadata": {},
   "outputs": [],
   "source": [
    "x = 42\n",
    "[func() for func in funcs]"
   ]
  },
  {
   "cell_type": "code",
   "execution_count": null,
   "metadata": {},
   "outputs": [],
   "source": [
    "inspect.getclosurevars(funcs[0])"
   ]
  },
  {
   "cell_type": "code",
   "execution_count": null,
   "metadata": {},
   "outputs": [],
   "source": [
    "funcs = []\n",
    "for x in range(7):\n",
    "    def some_func(x=x):\n",
    "        return x\n",
    "    funcs.append(some_func)"
   ]
  },
  {
   "cell_type": "code",
   "execution_count": null,
   "metadata": {},
   "outputs": [],
   "source": [
    "funcs_results = [func() for func in funcs]\n",
    "funcs_results"
   ]
  },
  {
   "cell_type": "code",
   "execution_count": null,
   "metadata": {},
   "outputs": [],
   "source": [
    "inspect.getclosurevars(funcs[0])"
   ]
  },
  {
   "cell_type": "markdown",
   "metadata": {},
   "source": [
    "### The chicken-egg problem "
   ]
  },
  {
   "cell_type": "code",
   "execution_count": null,
   "metadata": {},
   "outputs": [],
   "source": [
    "isinstance(3, int)"
   ]
  },
  {
   "cell_type": "code",
   "execution_count": null,
   "metadata": {},
   "outputs": [],
   "source": [
    "isinstance(type, object)"
   ]
  },
  {
   "cell_type": "code",
   "execution_count": null,
   "metadata": {},
   "outputs": [],
   "source": [
    "isinstance(object, type)"
   ]
  },
  {
   "cell_type": "code",
   "execution_count": null,
   "metadata": {},
   "outputs": [],
   "source": [
    "class A: ..."
   ]
  },
  {
   "cell_type": "code",
   "execution_count": null,
   "metadata": {},
   "outputs": [],
   "source": [
    "isinstance(A, A)"
   ]
  },
  {
   "cell_type": "code",
   "execution_count": null,
   "metadata": {},
   "outputs": [],
   "source": [
    "isinstance(type, type)"
   ]
  },
  {
   "cell_type": "code",
   "execution_count": null,
   "metadata": {},
   "outputs": [],
   "source": [
    "isinstance(object, object)"
   ]
  },
  {
   "cell_type": "code",
   "execution_count": null,
   "metadata": {},
   "outputs": [],
   "source": [
    "issubclass(int, object)"
   ]
  },
  {
   "cell_type": "code",
   "execution_count": null,
   "metadata": {},
   "outputs": [],
   "source": [
    "issubclass(type, object)"
   ]
  },
  {
   "cell_type": "code",
   "execution_count": null,
   "metadata": {},
   "outputs": [],
   "source": [
    "issubclass(object, type)"
   ]
  },
  {
   "cell_type": "markdown",
   "metadata": {},
   "source": [
    "1. everything is an object, which includes classes as well as their objects (instances)\n",
    "2. type is metaclass\n",
    "3. class type is the metaclass of class object, and every class (including type) has inherited directly or indirectly from object.\n",
    "4. There is no real base class among object and type. The confusion in the above snippets is arising because we're thinking about these relationships (issubclass and isinstance) in terms of Python classes. `The relationship between object and type can't be reproduced in pure python.` To be more precise the following relationships can't be reproduced in pure Python,\n",
    "\n",
    "    class A is an instance of class B, and class B is an instance of class A.\n",
    "    class A is an instance of itself.\n",
    "\n",
    "5. These relationships between object and type (both being instances of each other as well as themselves) exist in Python because of \"cheating\" at the implementation level."
   ]
  },
  {
   "cell_type": "code",
   "execution_count": null,
   "metadata": {},
   "outputs": [],
   "source": []
  }
 ],
 "metadata": {
  "kernelspec": {
   "display_name": "Python 3 (ipykernel)",
   "language": "python",
   "name": "python3"
  },
  "language_info": {
   "codemirror_mode": {
    "name": "ipython",
    "version": 3
   },
   "file_extension": ".py",
   "mimetype": "text/x-python",
   "name": "python",
   "nbconvert_exporter": "python",
   "pygments_lexer": "ipython3",
   "version": "3.10.5"
  }
 },
 "nbformat": 4,
 "nbformat_minor": 4
}
